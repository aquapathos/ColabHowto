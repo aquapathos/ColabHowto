{
  "nbformat": 4,
  "nbformat_minor": 0,
  "metadata": {
    "colab": {
      "name": "RealTime Rendering on Colab",
      "provenance": [],
      "collapsed_sections": [],
      "include_colab_link": true
    },
    "kernelspec": {
      "name": "python3",
      "display_name": "Python 3"
    }
  },
  "cells": [
    {
      "cell_type": "markdown",
      "metadata": {
        "id": "view-in-github",
        "colab_type": "text"
      },
      "source": [
        "<a href=\"https://colab.research.google.com/github/aquapathos/ColabHowto/blob/master/RealTime_Rendering_on_Colab.ipynb\" target=\"_parent\"><img src=\"https://colab.research.google.com/assets/colab-badge.svg\" alt=\"Open In Colab\"/></a>"
      ]
    },
    {
      "cell_type": "markdown",
      "metadata": {
        "id": "MBf9uedAdA8c"
      },
      "source": [
        "# Google Colab 上で　リアルタイムに処理結果動画をレンダリングする一方法\n",
        "\n",
        "![battlezone](https://user-images.githubusercontent.com/5820803/100510012-7f523b00-31b1-11eb-92a3-379ed77bdb2f.gif)\n"
      ]
    },
    {
      "cell_type": "code",
      "metadata": {
        "id": "UGujSFSzpAvG"
      },
      "source": [
        "%%bash\n",
        "wget -q https://bin.equinox.io/c/4VmDzA7iaHb/ngrok-stable-linux-amd64.zip > /dev/null\n",
        "unzip ngrok-stable-linux-amd64.zip\n",
        "pip install bottle > /dev/null\n",
        "pip install bottle_websocket > /dev/null\n",
        "pip install gevent > /dev/null"
      ],
      "execution_count": null,
      "outputs": []
    },
    {
      "cell_type": "markdown",
      "metadata": {
        "id": "IcCOHpgPoqhm"
      },
      "source": [
        "# ランタイム再起動\n",
        "一度ランタイムを再起動すること。\n",
        "\n",
        "上のセルでインストールしたライブラリは、ランタイム起動時にはなかったものなので動作しないため。\n"
      ]
    },
    {
      "cell_type": "code",
      "metadata": {
        "id": "1mT6mKYaq6-u"
      },
      "source": [
        "from IPython.display import display, Javascript\n",
        "from google.colab.output import eval_js\n",
        "\n",
        "def use_cam(url, quality=0.8):\n",
        "  print()  # このプリント文は必須\n",
        "  js = Javascript('''\n",
        "    async function useCam(url, quality) {\n",
        "      \n",
        "      const div = document.createElement('div');\n",
        "      document.body.appendChild(div);\n",
        "      \n",
        "      const canvas = document.createElement('canvas');\n",
        "      canvas.width  = 240;\n",
        "      canvas.height = 315;\n",
        "      const canvasCtx = canvas.getContext('2d');\n",
        "      div.appendChild(canvas);\n",
        "\n",
        "      //exit button　（効かないです）\n",
        "      const btn_div = document.createElement('div');\n",
        "      document.body.appendChild(btn_div);\n",
        "      const exit_btn = document.createElement('button');\n",
        "      exit_btn.textContent = 'Exit';\n",
        "      var exit_flg = false\n",
        "      exit_btn.onclick = function() {exit_flg = true};\n",
        "      btn_div.appendChild(exit_btn);\n",
        "\n",
        "      //log\n",
        "      let jsLog = function(abc) {\n",
        "        document.querySelector(\"#output-area\").appendChild(document.createTextNode(`${abc} `));\n",
        "      }\n",
        "      google.colab.output.setIframeHeight(document.documentElement.scrollHeight, true);\n",
        "      \n",
        "      //for websocket connection.\n",
        "      var connection = 0\n",
        "      var flag_count = 0\n",
        "      var send_flg = false\n",
        "\n",
        "      // loop\n",
        "      _canvasUpdate();\n",
        "      async function _canvasUpdate() {\n",
        "            flag_count += 1\n",
        "            \n",
        "            // 少し（２００カウント）待ってから WebSocket を実行\n",
        "            if (flag_count == 200){\n",
        "                print(\"200\")\n",
        "                connection = new WebSocket(url); \n",
        "                jsLog(\"Connect_start\")\n",
        "            }\n",
        "            if (flag_count == 300){\n",
        "                print(\"300\")\n",
        "                connection.onmessage = function(e) {\n",
        "                    var image = new Image()\n",
        "                    image.src = e.data;\n",
        "                    image.onload = function(){canvasCtx.drawImage(image, 0, 0, 160, 210, 0, 0, canvas.width, canvas.height)}\n",
        "                    send_flg=false\n",
        "                };\n",
        "                jsLog(\"Set_recieve\")\n",
        "            }\n",
        "            if(flag_count > 400){\n",
        "                const img = canvas.toDataURL('image/jpeg', quality);\n",
        "                \n",
        "                if (send_flg==false){\n",
        "                    connection.send(img);\n",
        "                    send_flg = true\n",
        "                }\n",
        "            }\n",
        "          if (!exit_flg){\n",
        "              requestAnimationFrame(_canvasUpdate);   \n",
        "          }else{\n",
        "              //stream.getVideoTracks()[0].stop();\n",
        "              connection.close();\n",
        "          }\n",
        "      };\n",
        "    }\n",
        "    ''')\n",
        "  display(js)\n",
        "  data = eval_js('useCam(\"{}\", {})'.format(url, quality))"
      ],
      "execution_count": null,
      "outputs": []
    },
    {
      "cell_type": "code",
      "metadata": {
        "id": "njz9VkLnJ8BX"
      },
      "source": [
        "get_ipython().system_raw('./ngrok http 6006 &')\n",
        "\"\"\"\n",
        "! curl -s http://localhost:4040/api/tunnels | python3 -c \\\n",
        "    \"import sys, json;url = json.load(sys.stdin)['tunnels'][0]['public_url'];print(url);f = open('url.txt', 'w');f.write(url);f.close()\"\n",
        "\"\"\"\n",
        "import subprocess\n",
        "url = \"wss\"\n",
        "while len(url)==3:\n",
        "  result = subprocess.run([\"curl -s http://localhost:4040/api/tunnels | python3 -c \\\"import sys, json; print(json.load(sys.stdin)['tunnels'][0]['public_url'])\\\"\"], encoding='utf-8',shell=True, stdout=subprocess.PIPE)\n",
        "  url = \"wss\"+result.stdout[5:-1]\n",
        "url"
      ],
      "execution_count": null,
      "outputs": []
    },
    {
      "cell_type": "code",
      "metadata": {
        "id": "nxBWifMz6WSB"
      },
      "source": [
        "import numpy as np\n",
        "import cv2\n",
        "import json\n",
        "import bottle\n",
        "import gevent\n",
        "from bottle.ext.websocket import GeventWebSocketServer\n",
        "from bottle.ext.websocket import websocket\n",
        "from multiprocessing import Pool\n",
        "from PIL import Image\n",
        "from io import BytesIO\n",
        "import base64\n",
        "import gym\n",
        "\n",
        "env = gym.make('BattleZone-v0') \n",
        "\n",
        "socket = bottle.Bottle()\n",
        "@socket.route('/', apply=[websocket])\n",
        "def wsbin(ws):\n",
        "    kbreak = False\n",
        "    while not kbreak:\n",
        "        done = False\n",
        "        env.reset()\n",
        "        while not done:\n",
        "            try:\n",
        "                action = env.action_space.sample()                  # ランダムな行動選択\n",
        "                out_img, reward, done, info = env.step(action)      # １ステップ実行\n",
        "                if done: \n",
        "                  break\n",
        "            \n",
        "                #encode to string\n",
        "                _, encimg = cv2.imencode(\".jpg\", out_img, [int(cv2.IMWRITE_JPEG_QUALITY), 80])\n",
        "                img_str = encimg.tostring()\n",
        "                img_str = \"data:image/jpeg;base64,\" + base64.b64encode(img_str).decode('utf-8')\n",
        "                ws.send(img_str)\n",
        "            except:\n",
        "                kbreak = True\n",
        "                done = True\n",
        "                pass\n",
        "                #print(\"error\")\n",
        "\n",
        "if __name__ == '__main__':\n",
        "    # prepare multiprocess\n",
        "    _pool = Pool(processes=2)\n",
        "    _pool.apply_async(use_cam, (url, 0.8))\n",
        "    socket.run(host='0.0.0.0', port=6006, server=GeventWebSocketServer)\n",
        "   "
      ],
      "execution_count": null,
      "outputs": []
    }
  ]
}