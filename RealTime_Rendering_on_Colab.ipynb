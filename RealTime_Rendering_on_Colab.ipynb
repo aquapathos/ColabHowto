{
  "nbformat": 4,
  "nbformat_minor": 0,
  "metadata": {
    "colab": {
      "name": "RealTime_Rendering_on_Colab.ipynb",
      "provenance": [],
      "collapsed_sections": [],
      "authorship_tag": "ABX9TyNI9MuT7imaL2k1BY82BGT5",
      "include_colab_link": true
    },
    "kernelspec": {
      "name": "python3",
      "display_name": "Python 3"
    }
  },
  "cells": [
    {
      "cell_type": "markdown",
      "metadata": {
        "id": "view-in-github",
        "colab_type": "text"
      },
      "source": [
        "<a href=\"https://colab.research.google.com/github/aquapathos/ColabHowto/blob/master/RealTime_Rendering_on_Colab.ipynb\" target=\"_parent\"><img src=\"https://colab.research.google.com/assets/colab-badge.svg\" alt=\"Open In Colab\"/></a>"
      ]
    },
    {
      "cell_type": "markdown",
      "metadata": {
        "id": "T0xXbqXyqtG5"
      },
      "source": [
        "\n",
        "# リアルタイムレンダリング\n",
        "\n",
        "## 不足ライブラリのインストール\n",
        "\n"
      ]
    },
    {
      "cell_type": "code",
      "metadata": {
        "id": "-JOjmhKQutZZ"
      },
      "source": [
        "%%bash\n",
        "wget -q https://bin.equinox.io/c/4VmDzA7iaHb/ngrok-stable-linux-amd64.zip > /dev/null\n",
        "unzip ngrok-stable-linux-amd64.zip\n",
        "pip install bottle > /dev/null\n",
        "pip install bottle_websocket > /dev/null"
      ],
      "execution_count": null,
      "outputs": []
    },
    {
      "cell_type": "markdown",
      "metadata": {
        "id": "ITpc_Zefq6K7"
      },
      "source": [
        "## ランタイムのリセット\n",
        " **一度ランタイムにリセットをかけてから先に進んでください。**"
      ]
    },
    {
      "cell_type": "markdown",
      "metadata": {
        "id": "9z-Hq26CrEPs"
      },
      "source": [
        "## ngrok転送"
      ]
    },
    {
      "cell_type": "code",
      "metadata": {
        "id": "E5Lo8Av80or1"
      },
      "source": [
        "get_ipython().system_raw('./ngrok http 5000 &')\n",
        "\"\"\"\n",
        "! curl -s http://localhost:4040/api/tunnels | python3 -c \\\n",
        "    \"import sys, json;url = json.load(sys.stdin)['tunnels'][0]['public_url'];print(url);f = open('url.txt', 'w');f.write(url);f.close()\"\n",
        "\"\"\"\n",
        "import subprocess\n",
        "url = \"wss\"\n",
        "while len(url)==3:\n",
        "  result = subprocess.run([\"curl -s http://localhost:4040/api/tunnels | python3 -c \\\"import sys, json; print(json.load(sys.stdin)['tunnels'][0]['public_url'])\\\"\"], encoding='utf-8',shell=True, stdout=subprocess.PIPE)\n",
        "  url = \"wss\"+result.stdout[5:-1]\n",
        "  #url = result.stdout\n",
        "print(url)"
      ],
      "execution_count": null,
      "outputs": []
    },
    {
      "cell_type": "markdown",
      "metadata": {
        "id": "1ZBLAc6xyc-l"
      },
      "source": [
        "## ゲームモニタリング　(Javascript)"
      ]
    },
    {
      "cell_type": "code",
      "metadata": {
        "id": "LbHxtxlHVAHJ"
      },
      "source": [
        "from IPython.display import display, Javascript\n",
        "from google.colab.output import eval_js\n",
        "from time import sleep\n",
        "\n",
        "def game_mon(url, quality=0.8):\n",
        "  sleep(3)\n",
        "  print(\"start monitor\")  # このプリント文は必須\n",
        "  js = Javascript('''\n",
        "    async function gameMon(url, quality) {\n",
        "      \n",
        "      const div = document.createElement('div');\n",
        "      document.body.appendChild(div);\n",
        "      \n",
        "      const canvas = document.createElement('canvas');\n",
        "      canvas.width  = 240;\n",
        "      canvas.height = 315;\n",
        "      const canvasCtx = canvas.getContext('2d');\n",
        "      div.appendChild(canvas);\n",
        "\n",
        "      \n",
        "      //exit button　（効かないです）\n",
        "      const btn_div = document.createElement('div');\n",
        "      document.body.appendChild(btn_div);\n",
        "      const exit_btn = document.createElement('button');\n",
        "      exit_btn.textContent = 'Exit';\n",
        "      var exit_flg = false\n",
        "      exit_btn.onclick = function() {exit_flg = true};\n",
        "      btn_div.appendChild(exit_btn);\n",
        "      \n",
        "      //log\n",
        "      let jsLog = function(abc) {\n",
        "        document.querySelector(\"#output-area\").appendChild(document.createTextNode(`${abc} `));\n",
        "      }\n",
        "      google.colab.output.setIframeHeight(document.documentElement.scrollHeight, true);\n",
        "\n",
        "      //for websocket connection.\n",
        "      var connection = 0\n",
        "      var flag_count = 0\n",
        "      var send_flg = false\n",
        "\n",
        "      // loop\n",
        "      _canvasUpdate();\n",
        "      jsLog(\"Connect_start\");\n",
        "      async function _canvasUpdate() {\n",
        "            flag_count += 1\n",
        "            \n",
        "            // 少し（1カウント）待ってから WebSocket を実行\n",
        "            if (flag_count == 10){\n",
        "                connection = new WebSocket(url); \n",
        "                jsLog(\"Connect_start\");\n",
        "            }\n",
        "            if (flag_count == 100){\n",
        "                print(\"100\");\n",
        "                connection.onmessage = function(e) {\n",
        "                    var image = new Image()\n",
        "                    image.src = e.data;\n",
        "                    image.onload = function(){canvasCtx.drawImage(image, 0, 0, 160, 210, 0, 0, canvas.width, canvas.height)}\n",
        "                    send_flg=false\n",
        "                };\n",
        "                jsLog(\"Set_recieve\")\n",
        "            }\n",
        "            if(flag_count > 100){\n",
        "                const img = canvas.toDataURL('image/jpeg', quality);\n",
        "                \n",
        "                if (send_flg==false){\n",
        "                    connection.send(img);\n",
        "                    send_flg = true\n",
        "                }\n",
        "            }\n",
        "          if (!exit_flg){\n",
        "              requestAnimationFrame(_canvasUpdate);   \n",
        "          }else{\n",
        "              connection.close();\n",
        "          }\n",
        "      };\n",
        "    }\n",
        "    ''')\n",
        "  display(js)\n",
        "  data = eval_js('gameMon(\"{}\", {})'.format(url, quality))"
      ],
      "execution_count": null,
      "outputs": []
    },
    {
      "cell_type": "markdown",
      "metadata": {
        "id": "Pi-HfzNAyov1"
      },
      "source": [
        "## ゲーム画面のストリーム転送"
      ]
    },
    {
      "cell_type": "code",
      "metadata": {
        "id": "TO958CqRVunI"
      },
      "source": [
        "import numpy as np\n",
        "import cv2\n",
        "import bottle\n",
        "from bottle.ext.websocket import GeventWebSocketServer\n",
        "from bottle.ext.websocket import websocket\n",
        "from multiprocessing import Pool\n",
        "import base64\n",
        "import gym\n",
        "\n",
        "env = gym.make('BattleZone-v0') \n",
        "\n",
        "socket = bottle.Bottle()\n",
        "@socket.route('/', apply=[websocket])\n",
        "def wsbin(ws):\n",
        "    kbreak = False\n",
        "    while not kbreak:\n",
        "        done = False\n",
        "        env.reset()\n",
        "        while not done:\n",
        "            try:\n",
        "                action = env.action_space.sample()                  # ランダムな行動選択\n",
        "                out_img, reward, done, info = env.step(action)      # １ステップ実行\n",
        "                if done: \n",
        "                  break\n",
        "            \n",
        "                #encode to string\n",
        "                _, encimg = cv2.imencode(\".jpg\", out_img, [int(cv2.IMWRITE_JPEG_QUALITY), 80])\n",
        "                img_str = encimg.tostring()\n",
        "                img_str = \"data:image/jpeg;base64,\" + base64.b64encode(img_str).decode('utf-8')\n",
        "                ws.send(img_str)\n",
        "            except:\n",
        "                kbreak = True\n",
        "                done = True\n",
        "                pass\n",
        "\n",
        "if __name__ == '__main__':\n",
        "    with Pool(2) as p:\n",
        "      p.apply_async(game_mon, (url, 0.8)) # \n",
        "      socket.run(host='0.0.0.0', port=5000, server=GeventWebSocketServer)\n",
        "   "
      ],
      "execution_count": null,
      "outputs": []
    },
    {
      "cell_type": "code",
      "metadata": {
        "id": "KK4DiIdHkGCy"
      },
      "source": [
        ""
      ],
      "execution_count": null,
      "outputs": []
    }
  ]
}