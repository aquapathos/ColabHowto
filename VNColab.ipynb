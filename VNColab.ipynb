{
  "nbformat": 4,
  "nbformat_minor": 0,
  "metadata": {
    "colab": {
      "name": "VNColab",
      "provenance": [],
      "collapsed_sections": [],
      "mount_file_id": "1Q-3_yw4EgmwHT1i-uxHnjhkckiXl2c2B",
      "authorship_tag": "ABX9TyPuW/swOahSNRYmgFnT5Q+b",
      "include_colab_link": true
    },
    "kernelspec": {
      "name": "python3",
      "display_name": "Python 3"
    },
    "accelerator": "GPU"
  },
  "cells": [
    {
      "cell_type": "markdown",
      "metadata": {
        "id": "view-in-github",
        "colab_type": "text"
      },
      "source": [
        "<a href=\"https://colab.research.google.com/github/aquapathos/ColabHowto/blob/master/VNColab.ipynb\" target=\"_parent\"><img src=\"https://colab.research.google.com/assets/colab-badge.svg\" alt=\"Open In Colab\"/></a>"
      ]
    },
    {
      "cell_type": "markdown",
      "metadata": {
        "id": "IvPUgqXH2a-c"
      },
      "source": [
        "\n",
        "# Colab で GUI プログラムを実行する方法\n",
        "\n",
        "## 必要物\n",
        "> ngrok のアカウント  \n",
        ">   →　　https://dashboard.ngrok.com   \n",
        "> vnc クライアント  \n",
        ">　  →　Windows なら **mobaXterm** で OK, \n",
        "**[turboVNC](https://www.turbovnc.org/)**\n",
        "\n",
        "## 手順の概要\n",
        "\n",
        "1. このノートのプログラム（Colab→ngrok→localというフォワーディング）を実行する\n",
        "2. ssh コマンドが表示されるので、ローカルマシン(WSL)で実行する\n",
        "3. VNCソフトで localhost:5901 に接続する\n",
        "\n",
        "用意できたら、次のセルを実行してください。"
      ]
    },
    {
      "cell_type": "code",
      "metadata": {
        "id": "bX8B1OOHGAGj"
      },
      "source": [
        "!gdown --id 1LyOh0-IJ5yqO5vqz673LdUsYiPACf7hJ\n",
        "!pip install pyngrok"
      ],
      "execution_count": null,
      "outputs": []
    },
    {
      "cell_type": "code",
      "metadata": {
        "id": "ZDfscVSkdqoY"
      },
      "source": [
        "import vncolab, getpass\n",
        "rootpass = None  #  <- このままにすれば自動でパスワードが決まります。  \n",
        "userpass = None  #  <- 自分で決めたパスワードも使えます。　クォートで囲むこと　　　例　\"boofoowoo\"\n",
        "ngrok_token = None   #  <- このままにすれば尋ねてきます。\n",
        "\n",
        "# ngrok_token が None の時は、トークンを尋ねてきますので、答えてください。\n",
        "if ngrok_token == None:\n",
        "  print(\"Ngrok のトークンを確認して下の枠に貼り付けて Enter してください。 https://dashboard.ngrok.com/auth\")\n",
        "  print(\"ログインしていない場合は、ログインが必要になります\")\n",
        "  print(\"登録をしていないなら登録が必要です\")\n",
        "  ngrok_token = getpass.getpass()\n",
        "\n",
        "vncolab.setupVNC(rootpass=rootpass,userpass=userpass,ngrok_token=ngrok_token)\n",
        "# １回目は５分以上かかります。コーヒーでも飲んで待ってください。"
      ],
      "execution_count": null,
      "outputs": []
    },
    {
      "cell_type": "markdown",
      "metadata": {
        "id": "SbzepijsBixW"
      },
      "source": [
        "何度かやっていると、次の質問が追加されることがあります。\n"
      ]
    },
    {
      "cell_type": "markdown",
      "metadata": {
        "id": "E03L5mcukzIX"
      },
      "source": [
        "```\n",
        "Warning! GPU of your assigned virtual machine is Tesla K80.\n",
        "You might get better GPU by reseting the runtime.\n",
        "Do you want to continue? [y/n]\n",
        "```\n",
        "と表示された場合は、 y と答えてください。\n",
        "\n"
      ]
    },
    {
      "cell_type": "markdown",
      "metadata": {
        "id": "ufvZQBj04mrB"
      },
      "source": [
        "# VNC接続\n",
        "\n"
      ]
    },
    {
      "cell_type": "markdown",
      "metadata": {
        "id": "hlCwGcen-m5l"
      },
      "source": [
        "Windows に **WSL Ubunutu** と mobaXterm、VS Code が入っているものとします。\n"
      ]
    },
    {
      "cell_type": "markdown",
      "metadata": {
        "id": "6x6EaZ4p-6UI"
      },
      "source": [
        "1.   mobaXterm で WSL Ubuntu のターミナルを起動し、表示されている ssh コマンドを入力 \n",
        "2. \"Are you sure you want to continue connecting (yes/no/[fingerprint])?\" と聞かれるので、yes と答える。\n",
        "3.   colab のパスワードを聞かれるので、答える。コピペ可。パスワードは一切表示されないので注意。\n",
        "4. \"colab@ac9e97eac44c:~$\" みたいなプロンプトに変われば、OK。この接続は切ってはいけない。\n",
        "5. mobaXterm の接続メニューで VNC のアイコンをクリック\n",
        "6. localhost:5901 に接続\n",
        "\n",
        "![vncolab](https://user-images.githubusercontent.com/5820803/96370111-bb988180-1197-11eb-9fff-cb5e8c0e26f0.png)\n",
        "\n"
      ]
    },
    {
      "cell_type": "markdown",
      "metadata": {
        "id": "6g-06HAoERmV"
      },
      "source": [
        "# VS Code での編集\n",
        "## 接続用の Config ファイルの作成\n",
        "まず、Remote SSH をインストールする\n",
        "\n",
        "![remotessh](https://user-images.githubusercontent.com/5820803/96370415-9f491480-1198-11eb-9937-86f48a27cdbf.png)\n",
        "\n",
        "Control+Shift+P　で　コマンドモードに入り、”Remote SSH Open Configuration File \n",
        "\n",
        "ssh コマンドが、-p 17712 -L 5901:localhost:5901 colab@0.tcp.jp.ngrok.io　の場合なら、次のように記述し、保存（Cntl+S)\n",
        "\n",
        "```\n",
        "Host colabssh\n",
        "    Hostname 0.tcp.jp.ngrok.io\n",
        "    User colab\n",
        "    Port 17712\n",
        "    IdentityFile  /etc/ssh/sshd_config\n",
        "```\n",
        "\n",
        "<font color=red>ポート番号は毎回変わるので注意</font>。ポート番号だけ書き換えて使えばいい。\n",
        "\n",
        "ちなみに、\n",
        "```\n",
        "Host colabvnc\n",
        "    Hostname 0.tcp.jp.ngrok.io\n",
        "    User colab\n",
        "    Port 17712\n",
        "    IdentityFile  /etc/ssh/sshd_config\n",
        "    LocalForward   5901 0.tcp.jp.ngrok.io:5901\n",
        "```\n",
        "\n",
        "を追加すれば、mobaXterm で　ssh コマンドを打つ代わりに、VS Code で VNC 接続を確立することもできる。\n",
        "\n",
        "\n",
        "\n",
        "\n",
        "\n",
        "\n"
      ]
    },
    {
      "cell_type": "markdown",
      "metadata": {
        "id": "D3cDFF_5GtlJ"
      },
      "source": [
        "\n",
        "# Colab 内ファイルの編集\n",
        "\n",
        "## 接続方法\n",
        "![スクリーンショット 2020-10-20 8 44 02](https://user-images.githubusercontent.com/5820803/96523563-f80bd080-12b0-11eb-9237-0d01d6faa72e.png)\n",
        "\n",
        "左下の「><」をクリックをクリックすると、\"Remote 系のメニューが表示されるので、”Remote SSH: Connect to Host\"を選ぶ\n",
        "\n",
        "接続先リストが表示されるので、colabssh をクリック\n",
        "\n",
        "あとは、ローカルと同様に使える。\n",
        "\n"
      ]
    }
  ]
}