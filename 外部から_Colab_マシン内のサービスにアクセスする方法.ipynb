{
  "nbformat": 4,
  "nbformat_minor": 0,
  "metadata": {
    "colab": {
      "name": "外部から Colab マシン内のサービスにアクセスする方法",
      "provenance": [],
      "collapsed_sections": [],
      "toc_visible": true,
      "authorship_tag": "ABX9TyM6QyKDrUC4M19ucUwl05o2",
      "include_colab_link": true
    },
    "kernelspec": {
      "name": "python3",
      "display_name": "Python 3"
    }
  },
  "cells": [
    {
      "cell_type": "markdown",
      "metadata": {
        "id": "view-in-github",
        "colab_type": "text"
      },
      "source": [
        "<a href=\"https://colab.research.google.com/github/aquapathos/ColabHowto/blob/master/%E5%A4%96%E9%83%A8%E3%81%8B%E3%82%89_Colab_%E3%83%9E%E3%82%B7%E3%83%B3%E5%86%85%E3%81%AE%E3%82%B5%E3%83%BC%E3%83%93%E3%82%B9%E3%81%AB%E3%82%A2%E3%82%AF%E3%82%BB%E3%82%B9%E3%81%99%E3%82%8B%E6%96%B9%E6%B3%95.ipynb\" target=\"_parent\"><img src=\"https://colab.research.google.com/assets/colab-badge.svg\" alt=\"Open In Colab\"/></a>"
      ]
    },
    {
      "cell_type": "markdown",
      "metadata": {
        "id": "UvB1DFgU1Yd7"
      },
      "source": [
        "# Tensorboard\n",
        "\n",
        "Tensorboard は、"
      ]
    },
    {
      "cell_type": "code",
      "metadata": {
        "colab": {
          "base_uri": "https://localhost:8080/"
        },
        "id": "Nw0Zil4I0T2n",
        "outputId": "8962ae8e-3440-4d83-d0e1-abdd91bf0bed"
      },
      "source": [
        "# ngrokのインストール\n",
        "!wget https://bin.equinox.io/c/4VmDzA7iaHb/ngrok-stable-linux-amd64.zip\n",
        "!unzip -o ngrok-stable-linux-amd64.zip\n",
        "\n",
        "# tensorboard のインストール\n",
        "!pip install tensorboard==1.14.0 > /dev/null\n",
        "!pip install tb-nightly > /dev/null"
      ],
      "execution_count": 4,
      "outputs": [
        {
          "output_type": "stream",
          "text": [
            "--2020-11-28 03:18:04--  https://bin.equinox.io/c/4VmDzA7iaHb/ngrok-stable-linux-amd64.zip\n",
            "Resolving bin.equinox.io (bin.equinox.io)... 52.1.26.21, 52.22.13.178, 3.226.231.47, ...\n",
            "Connecting to bin.equinox.io (bin.equinox.io)|52.1.26.21|:443... connected.\n",
            "HTTP request sent, awaiting response... 200 OK\n",
            "Length: 13773305 (13M) [application/octet-stream]\n",
            "Saving to: ‘ngrok-stable-linux-amd64.zip.2’\n",
            "\n",
            "ngrok-stable-linux- 100%[===================>]  13.13M  56.6MB/s    in 0.2s    \n",
            "\n",
            "2020-11-28 03:18:04 (56.6 MB/s) - ‘ngrok-stable-linux-amd64.zip.2’ saved [13773305/13773305]\n",
            "\n",
            "Archive:  ngrok-stable-linux-amd64.zip\n",
            "  inflating: ngrok                   \n"
          ],
          "name": "stdout"
        }
      ]
    },
    {
      "cell_type": "markdown",
      "metadata": {
        "id": "B24rJZPj1CSc"
      },
      "source": [
        "# ランタイムを再起動してから、下に進む"
      ]
    },
    {
      "cell_type": "code",
      "metadata": {
        "id": "NkE0FIu9IsQf"
      },
      "source": [
        "import os\n",
        "# TensorBoardのlogフォルダ\n",
        "LOG_DIR = './log'\n",
        "if not os.path.exists(LOG_DIR):\n",
        "    os.makedirs(LOG_DIR)\n",
        "\n",
        "# TensorBoardをバックグラウンドで実行\n",
        "get_ipython().system_raw(\n",
        "    'tensorboard --logdir {} --host 0.0.0.0 --port 6006 &'\n",
        "    .format(LOG_DIR))\n",
        "\n",
        "# ngrokバックグラウンドプロセスを起動\n",
        "# TensorBoardのポート6006を開放します。\n",
        "get_ipython().system_raw('./ngrok http 6006 &')"
      ],
      "execution_count": 5,
      "outputs": []
    },
    {
      "cell_type": "code",
      "metadata": {
        "colab": {
          "base_uri": "https://localhost:8080/"
        },
        "id": "Khpj0zCIIucw",
        "outputId": "8058b3be-9bd5-464d-cf42-649c9cc7227f"
      },
      "source": [
        "# TensorBoard表示のURLを取得\n",
        "# localhost:4040でNgrokのステータスをJsonで取得してpublicUrlをPrintしている\n",
        "!curl -s http://localhost:4040/api/tunnels | python3 -c \\\n",
        "    \"import sys, json; print(json.load(sys.stdin)['tunnels'][0]['public_url'])\"\n"
      ],
      "execution_count": 6,
      "outputs": [
        {
          "output_type": "stream",
          "text": [
            "http://c74265fcae8e.ngrok.io\n"
          ],
          "name": "stdout"
        }
      ]
    },
    {
      "cell_type": "markdown",
      "metadata": {
        "id": "7xRLIjoQwiR8"
      },
      "source": [
        "# プログラムで 上の　url にアクセスするための方法\n",
        "上のプログラムはマジックコマンドで実行しているので、url　は表示されているが、 python　のプログラムで使えない。\n",
        "\n",
        "## 方法１\n",
        "url をテキストファイルとして書き出し、後でそのファイルを読み出す。"
      ]
    },
    {
      "cell_type": "code",
      "metadata": {
        "colab": {
          "base_uri": "https://localhost:8080/"
        },
        "id": "5tCej1DZxd5T",
        "outputId": "b07127d8-5bcc-45f6-94c1-3c6666cc0c94"
      },
      "source": [
        "! curl -s http://localhost:4040/api/tunnels | python3 -c \\\n",
        "    \"import sys, json;url = json.load(sys.stdin)['tunnels'][0]['public_url'];print(url);f = open('url.txt', 'w');f.write(url);f.close()\""
      ],
      "execution_count": 7,
      "outputs": [
        {
          "output_type": "stream",
          "text": [
            "https://c74265fcae8e.ngrok.io\n"
          ],
          "name": "stdout"
        }
      ]
    },
    {
      "cell_type": "markdown",
      "metadata": {
        "id": "LXjmVSafvSSD"
      },
      "source": [
        "これで、url のみが書かれた、'url.txt'　というファイルができるので、後でこのファイルから読み出せばいい。\n"
      ]
    },
    {
      "cell_type": "code",
      "metadata": {
        "colab": {
          "base_uri": "https://localhost:8080/"
        },
        "id": "2_qazfmhzja4",
        "outputId": "d6ab5406-42e7-451a-d5b5-94c05d057535"
      },
      "source": [
        "# get ngrok url\n",
        "f = open(\"url.txt\", \"r\")\n",
        "url = f.read()\n",
        "f.close()\n",
        "print(\"url={}\".format(url))"
      ],
      "execution_count": 10,
      "outputs": [
        {
          "output_type": "stream",
          "text": [
            "url=https://c74265fcae8e.ngrok.io\n"
          ],
          "name": "stdout"
        }
      ]
    },
    {
      "cell_type": "markdown",
      "metadata": {
        "id": "0jfKnFeY3BqT"
      },
      "source": [
        "## 方法２\n",
        "\n",
        "subprosess.run で、外部コマンドを実行したときの stdout を取り出して、そこから直接 url を取得する"
      ]
    },
    {
      "cell_type": "code",
      "metadata": {
        "colab": {
          "base_uri": "https://localhost:8080/"
        },
        "id": "4NBZuAMbr62L",
        "outputId": "b2af4081-ce74-4e38-da45-f432fa84cc4d"
      },
      "source": [
        "import subprocess\n",
        "result = subprocess.run([\"curl -s http://localhost:4040/api/tunnels | python3 -c \\\"import sys, json; print(json.load(sys.stdin)['tunnels'][0]['public_url'])\\\"\"], encoding='utf-8',shell=True, stdout=subprocess.PIPE)\n",
        "url = result.stdout[:-1]\n",
        "print(\"url={}\".format(url))"
      ],
      "execution_count": 8,
      "outputs": [
        {
          "output_type": "stream",
          "text": [
            "url=http://c74265fcae8e.ngrok.io\n"
          ],
          "name": "stdout"
        }
      ]
    }
  ]
}